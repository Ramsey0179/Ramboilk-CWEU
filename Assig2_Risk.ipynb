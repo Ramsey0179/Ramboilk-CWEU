{
 "cells": [
  {
   "cell_type": "code",
   "execution_count": 2,
   "metadata": {},
   "outputs": [
    {
     "name": "stdout",
     "output_type": "stream",
     "text": [
      "Are you a cigarette addict older than 75 years old?: (Yes/No)no \n",
      "Do you have a severe chronic disease?: (Yes/No)no\n",
      "Is your immune system too weak?: (Yes/No)no\n",
      "No No No\n",
      "You are in not risky group\n"
     ]
    }
   ],
   "source": [
    "age = str(input(\"Are you a cigarette addict older than 75 years old?: (Yes/No)\")).title().strip()\n",
    "\n",
    "chronic = str(input(\"Do you have a severe chronic disease?: (Yes/No)\")).title().strip()\n",
    "\n",
    "immune = str(input(\"Is your immune system too weak?: (Yes/No)\")).title().strip()\n",
    "\n",
    "print(age, chronic, immune)\n",
    "\n",
    "risk = age or chronic or immune\n",
    "\n",
    "if risk == \"Yes\" :\n",
    "\n",
    "    print(\"You are in risky group\")\n",
    "\n",
    "else :\n",
    "\n",
    "    print(\"You are in not risky group\")"
   ]
  },
  {
   "cell_type": "code",
   "execution_count": 4,
   "metadata": {},
   "outputs": [
    {
     "name": "stdout",
     "output_type": "stream",
     "text": [
      "Are you cigaratte addict older than 75 years old? (Yes/No) yes\n",
      "Do you have a severe chronic disease? : (Yes/No) yes\n",
      "Is your immune system too weak? : (Yes/No) yes\n",
      "age answer: True \n",
      "chronic answer: True \n",
      "immune answer: True\n",
      "You are in the risky group\n"
     ]
    }
   ],
   "source": [
    "age = input(\"Are you cigaratte addict older than 75 years old? (Yes/No) \").title().strip() == \"Yes\"\n",
    "chronic = input(\"Do you have a severe chronic disease? : (Yes/No) \").title().strip() == \"Yes\"\n",
    "immune = input(\"Is your immune system too weak? : (Yes/No) \").title().strip() == \"Yes\"\n",
    "print(\"age answer:\", age, \"\\nchronic answer:\", chronic, \"\\nimmune answer:\", immune)\n",
    "if age or chronic or immune :\n",
    "    print(\"You are in the risky group\")\n",
    "else :\n",
    "    print(\"You are not in the risky group\")"
   ]
  }
 ],
 "metadata": {
  "kernelspec": {
   "display_name": "Python 3",
   "language": "python",
   "name": "python3"
  },
  "language_info": {
   "codemirror_mode": {
    "name": "ipython",
    "version": 3
   },
   "file_extension": ".py",
   "mimetype": "text/x-python",
   "name": "python",
   "nbconvert_exporter": "python",
   "pygments_lexer": "ipython3",
   "version": "3.7.6"
  }
 },
 "nbformat": 4,
 "nbformat_minor": 4
}
