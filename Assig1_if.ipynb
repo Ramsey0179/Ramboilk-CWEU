{
 "cells": [
  {
   "cell_type": "code",
   "execution_count": null,
   "metadata": {},
   "outputs": [],
   "source": [
    "your_name = input(\"isim gir : \").title().strip()\n",
    "my_name = \"Joseph\"\n",
    "if your_name == my_name :  \n",
    "    print(\"Hello, {name1}! The password is : W@12\".format (name1 = your_name))\n",
    "else :     \n",
    "    print(\"Hello, {name1}! See you later.\".format (name1 = your_name))"
   ]
  }
 ],
 "metadata": {
  "kernelspec": {
   "display_name": "Python 3",
   "language": "python",
   "name": "python3"
  },
  "language_info": {
   "codemirror_mode": {
    "name": "ipython",
    "version": 3
   },
   "file_extension": ".py",
   "mimetype": "text/x-python",
   "name": "python",
   "nbconvert_exporter": "python",
   "pygments_lexer": "ipython3",
   "version": "3.7.6"
  }
 },
 "nbformat": 4,
 "nbformat_minor": 4
}
